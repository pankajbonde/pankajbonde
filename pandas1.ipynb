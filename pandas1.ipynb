{
  "nbformat": 4,
  "nbformat_minor": 0,
  "metadata": {
    "colab": {
      "name": "pandas1.ipynb",
      "provenance": [],
      "authorship_tag": "ABX9TyNzTadVz0xaGgNH3kyK76Kg",
      "include_colab_link": true
    },
    "kernelspec": {
      "name": "python3",
      "display_name": "Python 3"
    },
    "language_info": {
      "name": "python"
    }
  },
  "cells": [
    {
      "cell_type": "markdown",
      "metadata": {
        "id": "view-in-github",
        "colab_type": "text"
      },
      "source": [
        "<a href=\"https://colab.research.google.com/github/pankajbonde/pankajbonde/blob/main/pandas1.ipynb\" target=\"_parent\"><img src=\"https://colab.research.google.com/assets/colab-badge.svg\" alt=\"Open In Colab\"/></a>"
      ]
    },
    {
      "cell_type": "markdown",
      "source": [
        "\n",
        "#Create dataframe\n",
        "\n"
      ],
      "metadata": {
        "id": "cnChjl9A4wMg"
      }
    },
    {
      "cell_type": "code",
      "source": [
        "import pandas as pd\n",
        "\n",
        "list1 = [['mouse', 400],['keypad',1500],['coolpad',2300],['harddisk',5000]]"
      ],
      "metadata": {
        "id": "GTfPn6UB5Vnc"
      },
      "execution_count": 1,
      "outputs": []
    },
    {
      "cell_type": "markdown",
      "source": [
        "#create df object with columns specified"
      ],
      "metadata": {
        "id": "npfoOkKi6SLR"
      }
    },
    {
      "cell_type": "code",
      "source": [
        "df =pd.DataFrame(list1,columns=['Computer Device','Price in Rs'])\n",
        "\n",
        "print(df)"
      ],
      "metadata": {
        "colab": {
          "base_uri": "https://localhost:8080/"
        },
        "id": "kMMQCvz97gSG",
        "outputId": "480a75cb-bf73-418a-a3e1-0c0421cb537a"
      },
      "execution_count": 4,
      "outputs": [
        {
          "output_type": "stream",
          "name": "stdout",
          "text": [
            "  Computer Device  Price in Rs\n",
            "0           mouse          400\n",
            "1          keypad         1500\n",
            "2         coolpad         2300\n",
            "3        harddisk         5000\n"
          ]
        }
      ]
    }
  ]
}